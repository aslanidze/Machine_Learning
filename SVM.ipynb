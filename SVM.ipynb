{
  "nbformat": 4,
  "nbformat_minor": 0,
  "metadata": {
    "colab": {
      "provenance": [],
      "authorship_tag": "ABX9TyO6Mmdq55ZdM18UT0BT1Px9",
      "include_colab_link": true
    },
    "kernelspec": {
      "name": "python3",
      "display_name": "Python 3"
    },
    "language_info": {
      "name": "python"
    }
  },
  "cells": [
    {
      "cell_type": "markdown",
      "metadata": {
        "id": "view-in-github",
        "colab_type": "text"
      },
      "source": [
        "<a href=\"https://colab.research.google.com/github/aslanidze/Machine_Learning/blob/main/SVM.ipynb\" target=\"_parent\"><img src=\"https://colab.research.google.com/assets/colab-badge.svg\" alt=\"Open In Colab\"/></a>"
      ]
    },
    {
      "cell_type": "code",
      "execution_count": null,
      "metadata": {
        "colab": {
          "base_uri": "https://localhost:8080/",
          "height": 110
        },
        "id": "hV25t-V6inCI",
        "outputId": "b57c016b-7b77-42b1-c1a7-ee520fc5ed73"
      },
      "outputs": [
        {
          "output_type": "display_data",
          "data": {
            "text/plain": [
              "<IPython.core.display.HTML object>"
            ],
            "text/html": [
              "\n",
              "     <input type=\"file\" id=\"files-bfec868c-fd20-442c-bf66-5da069230019\" name=\"files[]\" multiple disabled\n",
              "        style=\"border:none\" />\n",
              "     <output id=\"result-bfec868c-fd20-442c-bf66-5da069230019\">\n",
              "      Upload widget is only available when the cell has been executed in the\n",
              "      current browser session. Please rerun this cell to enable.\n",
              "      </output>\n",
              "      <script>// Copyright 2017 Google LLC\n",
              "//\n",
              "// Licensed under the Apache License, Version 2.0 (the \"License\");\n",
              "// you may not use this file except in compliance with the License.\n",
              "// You may obtain a copy of the License at\n",
              "//\n",
              "//      http://www.apache.org/licenses/LICENSE-2.0\n",
              "//\n",
              "// Unless required by applicable law or agreed to in writing, software\n",
              "// distributed under the License is distributed on an \"AS IS\" BASIS,\n",
              "// WITHOUT WARRANTIES OR CONDITIONS OF ANY KIND, either express or implied.\n",
              "// See the License for the specific language governing permissions and\n",
              "// limitations under the License.\n",
              "\n",
              "/**\n",
              " * @fileoverview Helpers for google.colab Python module.\n",
              " */\n",
              "(function(scope) {\n",
              "function span(text, styleAttributes = {}) {\n",
              "  const element = document.createElement('span');\n",
              "  element.textContent = text;\n",
              "  for (const key of Object.keys(styleAttributes)) {\n",
              "    element.style[key] = styleAttributes[key];\n",
              "  }\n",
              "  return element;\n",
              "}\n",
              "\n",
              "// Max number of bytes which will be uploaded at a time.\n",
              "const MAX_PAYLOAD_SIZE = 100 * 1024;\n",
              "\n",
              "function _uploadFiles(inputId, outputId) {\n",
              "  const steps = uploadFilesStep(inputId, outputId);\n",
              "  const outputElement = document.getElementById(outputId);\n",
              "  // Cache steps on the outputElement to make it available for the next call\n",
              "  // to uploadFilesContinue from Python.\n",
              "  outputElement.steps = steps;\n",
              "\n",
              "  return _uploadFilesContinue(outputId);\n",
              "}\n",
              "\n",
              "// This is roughly an async generator (not supported in the browser yet),\n",
              "// where there are multiple asynchronous steps and the Python side is going\n",
              "// to poll for completion of each step.\n",
              "// This uses a Promise to block the python side on completion of each step,\n",
              "// then passes the result of the previous step as the input to the next step.\n",
              "function _uploadFilesContinue(outputId) {\n",
              "  const outputElement = document.getElementById(outputId);\n",
              "  const steps = outputElement.steps;\n",
              "\n",
              "  const next = steps.next(outputElement.lastPromiseValue);\n",
              "  return Promise.resolve(next.value.promise).then((value) => {\n",
              "    // Cache the last promise value to make it available to the next\n",
              "    // step of the generator.\n",
              "    outputElement.lastPromiseValue = value;\n",
              "    return next.value.response;\n",
              "  });\n",
              "}\n",
              "\n",
              "/**\n",
              " * Generator function which is called between each async step of the upload\n",
              " * process.\n",
              " * @param {string} inputId Element ID of the input file picker element.\n",
              " * @param {string} outputId Element ID of the output display.\n",
              " * @return {!Iterable<!Object>} Iterable of next steps.\n",
              " */\n",
              "function* uploadFilesStep(inputId, outputId) {\n",
              "  const inputElement = document.getElementById(inputId);\n",
              "  inputElement.disabled = false;\n",
              "\n",
              "  const outputElement = document.getElementById(outputId);\n",
              "  outputElement.innerHTML = '';\n",
              "\n",
              "  const pickedPromise = new Promise((resolve) => {\n",
              "    inputElement.addEventListener('change', (e) => {\n",
              "      resolve(e.target.files);\n",
              "    });\n",
              "  });\n",
              "\n",
              "  const cancel = document.createElement('button');\n",
              "  inputElement.parentElement.appendChild(cancel);\n",
              "  cancel.textContent = 'Cancel upload';\n",
              "  const cancelPromise = new Promise((resolve) => {\n",
              "    cancel.onclick = () => {\n",
              "      resolve(null);\n",
              "    };\n",
              "  });\n",
              "\n",
              "  // Wait for the user to pick the files.\n",
              "  const files = yield {\n",
              "    promise: Promise.race([pickedPromise, cancelPromise]),\n",
              "    response: {\n",
              "      action: 'starting',\n",
              "    }\n",
              "  };\n",
              "\n",
              "  cancel.remove();\n",
              "\n",
              "  // Disable the input element since further picks are not allowed.\n",
              "  inputElement.disabled = true;\n",
              "\n",
              "  if (!files) {\n",
              "    return {\n",
              "      response: {\n",
              "        action: 'complete',\n",
              "      }\n",
              "    };\n",
              "  }\n",
              "\n",
              "  for (const file of files) {\n",
              "    const li = document.createElement('li');\n",
              "    li.append(span(file.name, {fontWeight: 'bold'}));\n",
              "    li.append(span(\n",
              "        `(${file.type || 'n/a'}) - ${file.size} bytes, ` +\n",
              "        `last modified: ${\n",
              "            file.lastModifiedDate ? file.lastModifiedDate.toLocaleDateString() :\n",
              "                                    'n/a'} - `));\n",
              "    const percent = span('0% done');\n",
              "    li.appendChild(percent);\n",
              "\n",
              "    outputElement.appendChild(li);\n",
              "\n",
              "    const fileDataPromise = new Promise((resolve) => {\n",
              "      const reader = new FileReader();\n",
              "      reader.onload = (e) => {\n",
              "        resolve(e.target.result);\n",
              "      };\n",
              "      reader.readAsArrayBuffer(file);\n",
              "    });\n",
              "    // Wait for the data to be ready.\n",
              "    let fileData = yield {\n",
              "      promise: fileDataPromise,\n",
              "      response: {\n",
              "        action: 'continue',\n",
              "      }\n",
              "    };\n",
              "\n",
              "    // Use a chunked sending to avoid message size limits. See b/62115660.\n",
              "    let position = 0;\n",
              "    do {\n",
              "      const length = Math.min(fileData.byteLength - position, MAX_PAYLOAD_SIZE);\n",
              "      const chunk = new Uint8Array(fileData, position, length);\n",
              "      position += length;\n",
              "\n",
              "      const base64 = btoa(String.fromCharCode.apply(null, chunk));\n",
              "      yield {\n",
              "        response: {\n",
              "          action: 'append',\n",
              "          file: file.name,\n",
              "          data: base64,\n",
              "        },\n",
              "      };\n",
              "\n",
              "      let percentDone = fileData.byteLength === 0 ?\n",
              "          100 :\n",
              "          Math.round((position / fileData.byteLength) * 100);\n",
              "      percent.textContent = `${percentDone}% done`;\n",
              "\n",
              "    } while (position < fileData.byteLength);\n",
              "  }\n",
              "\n",
              "  // All done.\n",
              "  yield {\n",
              "    response: {\n",
              "      action: 'complete',\n",
              "    }\n",
              "  };\n",
              "}\n",
              "\n",
              "scope.google = scope.google || {};\n",
              "scope.google.colab = scope.google.colab || {};\n",
              "scope.google.colab._files = {\n",
              "  _uploadFiles,\n",
              "  _uploadFilesContinue,\n",
              "};\n",
              "})(self);\n",
              "</script> "
            ]
          },
          "metadata": {}
        },
        {
          "output_type": "stream",
          "name": "stdout",
          "text": [
            "Saving cell_samples.csv to cell_samples.csv\n"
          ]
        }
      ],
      "source": [
        "from google.colab import files\n",
        "Uploaded = files.upload ()"
      ]
    },
    {
      "cell_type": "code",
      "source": [
        "import pandas as pd\n",
        "\n",
        "# خواندن فایل CSV\n",
        "df = pd.read_csv('cell_samples.csv')\n",
        "\n",
        "# نمایش ۵ سطر اول دادهها\n",
        "print(df.head())\n",
        "\n",
        "# بررسی اطلاعات کلی (تعداد سطرها، ستونها، نوع دادهها)\n",
        "print(df.info())\n",
        "\n",
        "# آمار توصیفی دادهها\n",
        "print(df.describe())"
      ],
      "metadata": {
        "colab": {
          "base_uri": "https://localhost:8080/"
        },
        "id": "F4aQ-vhwjH2l",
        "outputId": "dfec55ea-12d8-4fdf-fa87-d9a45858e121"
      },
      "execution_count": null,
      "outputs": [
        {
          "output_type": "stream",
          "name": "stdout",
          "text": [
            "        ID  Clump  UnifSize  UnifShape  MargAdh  SingEpiSize BareNuc  \\\n",
            "0  1000025      5         1          1        1            2       1   \n",
            "1  1002945      5         4          4        5            7      10   \n",
            "2  1015425      3         1          1        1            2       2   \n",
            "3  1016277      6         8          8        1            3       4   \n",
            "4  1017023      4         1          1        3            2       1   \n",
            "\n",
            "   BlandChrom  NormNucl  Mit  Class  \n",
            "0           3         1    1      2  \n",
            "1           3         2    1      2  \n",
            "2           3         1    1      2  \n",
            "3           3         7    1      2  \n",
            "4           3         1    1      2  \n",
            "<class 'pandas.core.frame.DataFrame'>\n",
            "RangeIndex: 699 entries, 0 to 698\n",
            "Data columns (total 11 columns):\n",
            " #   Column       Non-Null Count  Dtype \n",
            "---  ------       --------------  ----- \n",
            " 0   ID           699 non-null    int64 \n",
            " 1   Clump        699 non-null    int64 \n",
            " 2   UnifSize     699 non-null    int64 \n",
            " 3   UnifShape    699 non-null    int64 \n",
            " 4   MargAdh      699 non-null    int64 \n",
            " 5   SingEpiSize  699 non-null    int64 \n",
            " 6   BareNuc      699 non-null    object\n",
            " 7   BlandChrom   699 non-null    int64 \n",
            " 8   NormNucl     699 non-null    int64 \n",
            " 9   Mit          699 non-null    int64 \n",
            " 10  Class        699 non-null    int64 \n",
            "dtypes: int64(10), object(1)\n",
            "memory usage: 60.2+ KB\n",
            "None\n",
            "                 ID       Clump    UnifSize   UnifShape     MargAdh  \\\n",
            "count  6.990000e+02  699.000000  699.000000  699.000000  699.000000   \n",
            "mean   1.071704e+06    4.417740    3.134478    3.207439    2.806867   \n",
            "std    6.170957e+05    2.815741    3.051459    2.971913    2.855379   \n",
            "min    6.163400e+04    1.000000    1.000000    1.000000    1.000000   \n",
            "25%    8.706885e+05    2.000000    1.000000    1.000000    1.000000   \n",
            "50%    1.171710e+06    4.000000    1.000000    1.000000    1.000000   \n",
            "75%    1.238298e+06    6.000000    5.000000    5.000000    4.000000   \n",
            "max    1.345435e+07   10.000000   10.000000   10.000000   10.000000   \n",
            "\n",
            "       SingEpiSize  BlandChrom    NormNucl         Mit       Class  \n",
            "count   699.000000  699.000000  699.000000  699.000000  699.000000  \n",
            "mean      3.216023    3.437768    2.866953    1.589413    2.689557  \n",
            "std       2.214300    2.438364    3.053634    1.715078    0.951273  \n",
            "min       1.000000    1.000000    1.000000    1.000000    2.000000  \n",
            "25%       2.000000    2.000000    1.000000    1.000000    2.000000  \n",
            "50%       2.000000    3.000000    1.000000    1.000000    2.000000  \n",
            "75%       4.000000    5.000000    4.000000    1.000000    4.000000  \n",
            "max      10.000000   10.000000   10.000000   10.000000    4.000000  \n"
          ]
        }
      ]
    },
    {
      "cell_type": "code",
      "source": [
        "\n",
        "# نمایش داده‌های غیرعددی در ستون BareNuc\n",
        "non_numeric = df[~df['BareNuc'].apply(lambda x: str(x).replace('.', '', 1).isdigit())]\n",
        "# print(non_numeric)\n",
        "\n",
        "# تبدیل داده‌های غیرعددی به عددی (در صورت ممکن)\n",
        "df['BareNuc'] = pd.to_numeric(df['BareNuc'], errors='coerce')\n",
        "\n",
        "# حذف یا جایگزینی مقادیر غیرعددی با میانگین مقادیر عددی\n",
        "df['BareNuc'].fillna(df['BareNuc'].mean(), inplace=True)\n",
        "\n",
        "# ذخیره فایل CSV به‌روز شده\n",
        "df.to_csv('updated_file.csv', index=False)"
      ],
      "metadata": {
        "colab": {
          "base_uri": "https://localhost:8080/"
        },
        "id": "By6FX02Ajzo9",
        "outputId": "0c8137a1-bfd6-4660-d027-b9d78965554e"
      },
      "execution_count": null,
      "outputs": [
        {
          "output_type": "stream",
          "name": "stderr",
          "text": [
            "<ipython-input-3-a99bab283044>:9: FutureWarning: A value is trying to be set on a copy of a DataFrame or Series through chained assignment using an inplace method.\n",
            "The behavior will change in pandas 3.0. This inplace method will never work because the intermediate object on which we are setting values always behaves as a copy.\n",
            "\n",
            "For example, when doing 'df[col].method(value, inplace=True)', try using 'df.method({col: value}, inplace=True)' or df[col] = df[col].method(value) instead, to perform the operation inplace on the original object.\n",
            "\n",
            "\n",
            "  df['BareNuc'].fillna(df['BareNuc'].mean(), inplace=True)\n"
          ]
        }
      ]
    },
    {
      "cell_type": "code",
      "source": [
        "# بررسی دادههای گمشده\n",
        "print(df.isnull().sum())\n",
        "\n",
        "# حذف ستون ID (غیرضروری برای مدلسازی)\n",
        "df = df.drop(columns=['ID'])"
      ],
      "metadata": {
        "colab": {
          "base_uri": "https://localhost:8080/"
        },
        "collapsed": true,
        "id": "1U6RYE6hnZmN",
        "outputId": "1dcf1f8b-f40a-4cb4-8fa6-445f356e6144"
      },
      "execution_count": null,
      "outputs": [
        {
          "output_type": "stream",
          "name": "stdout",
          "text": [
            "ID             0\n",
            "Clump          0\n",
            "UnifSize       0\n",
            "UnifShape      0\n",
            "MargAdh        0\n",
            "SingEpiSize    0\n",
            "BareNuc        0\n",
            "BlandChrom     0\n",
            "NormNucl       0\n",
            "Mit            0\n",
            "Class          0\n",
            "dtype: int64\n"
          ]
        }
      ]
    },
    {
      "cell_type": "code",
      "source": [
        "import matplotlib.pyplot as plt\n",
        "import seaborn as sns\n",
        "\n",
        "# توزیع کلاس Class\n",
        "tex = 'توزیع نمونه‌های'\n",
        "sns.countplot(x='Class', data=df)\n",
        "plt.title(f'{tex[::-1]} Malignant (4) و Benign (2)')\n",
        "plt.show()"
      ],
      "metadata": {
        "colab": {
          "base_uri": "https://localhost:8080/",
          "height": 253
        },
        "id": "OynoG5avnj1Z",
        "outputId": "8f5a5ac7-c28c-4f91-b161-f40ca54b3d17"
      },
      "execution_count": null,
      "outputs": [
        {
          "output_type": "display_data",
          "data": {
            "text/plain": [
              "<Figure size 640x480 with 1 Axes>"
            ],
            "image/png": "[encoded data removed]"
          },
          "metadata": {}
        }
      ]
    },
    {
      "cell_type": "code",
      "source": [
        "import pandas as pd\n",
        "from sklearn.preprocessing import StandardScaler\n",
        "from sklearn.model_selection import GridSearchCV\n",
        "from sklearn.svm import SVC\n",
        "from sklearn.metrics import accuracy_score\n",
        "from sklearn.model_selection import train_test_split\n",
        "\n",
        "# جداسازی ویژگی‌ها و برچسب‌ها\n",
        "X = df.drop(columns=['Class'])\n",
        "y = df['Class']\n",
        "\n",
        "# انتخاب ویژگی‌های مهم\n",
        "selected_features = ['BareNuc', 'Clump', 'BlandChrom', 'UnifShape', 'Mit']\n",
        "X_selected = X[selected_features]\n",
        "\n",
        "# استانداردسازی ویژگی‌ها\n",
        "scaler = StandardScaler()\n",
        "X_scaled = scaler.fit_transform(X_selected)\n",
        "\n",
        "# تبدیل X_scaled به DataFrame با نام ستون‌ها\n",
        "X_scaled = pd.DataFrame(X_scaled, columns=selected_features)\n",
        "\n",
        "# تقسیم داده‌ها به آموزش و تست\n",
        "X_train, X_test, y_train, y_test = train_test_split(X_scaled, y, test_size=0.2, random_state=42)\n",
        "print('Train set:', X_train.shape, y_train.shape)\n",
        "print('Test set:', X_test.shape, y_test.shape)\n",
        "\n",
        "# تنظیم هایپرپارامترها\n",
        "params = {\n",
        "    'C': [0.1, 1, 10],\n",
        "    'kernel': ['linear', 'rbf', 'poly'],\n",
        "    'gamma': ['scale', 'auto']\n",
        "}\n",
        "\n",
        "# جستجوی شبکه‌ای برای بهترین هایپرپارامترها\n",
        "grid = GridSearchCV(SVC(), params, cv=5)\n",
        "grid.fit(X_train, y_train)\n",
        "\n",
        "# بهترین مدل\n",
        "best_model = grid.best_estimator_\n",
        "y_pred = best_model.predict(X_test)\n",
        "\n",
        "# ارزیابی مدل\n",
        "print('دقت بهبودیافته:', accuracy_score(y_test, y_pred))\n",
        "\n",
        "# محاسبه اهمیت ویژگی‌ها\n",
        "\"\"\"importance = pd.DataFrame({\n",
        "       'Feature': X_scaled.columns,\n",
        "       'Importance': best_model.coef_[0]\n",
        "   }).sort_values('Importance', ascending=False)\"\"\"\n",
        "\n",
        "# print(importance)"
      ],
      "metadata": {
        "id": "CM6gIP6mpQcO",
        "colab": {
          "base_uri": "https://localhost:8080/",
          "height": 157
        },
        "outputId": "647064d6-5d18-4376-c0f1-0e885da4bd75"
      },
      "execution_count": null,
      "outputs": [
        {
          "output_type": "stream",
          "name": "stdout",
          "text": [
            "Train set: (559, 5) (559,)\n",
            "Test set: (140, 5) (140,)\n",
            "دقت بهبودیافته: 0.9642857142857143\n"
          ]
        },
        {
          "output_type": "execute_result",
          "data": {
            "text/plain": [
              "\"importance = pd.DataFrame({\\n       'Feature': X_scaled.columns,\\n       'Importance': best_model.coef_[0]\\n   }).sort_values('Importance', ascending=False)\""
            ],
            "application/vnd.google.colaboratory.intrinsic+json": {
              "type": "string"
            }
          },
          "metadata": {},
          "execution_count": 15
        }
      ]
    },
    {
      "cell_type": "code",
      "source": [
        "# ماتریس همبستگی\n",
        "plt.figure(figsize=(20, 15))\n",
        "sns.heatmap(df.corr(), annot=False, cmap='coolwarm')\n",
        "plt.title('ماتریس همبستگی ویژگیها')\n",
        "plt.show()"
      ],
      "metadata": {
        "colab": {
          "base_uri": "https://localhost:8080/",
          "height": 267
        },
        "id": "zc_s2A4QpfOv",
        "outputId": "0740be61-09e9-44ff-8989-8aa4d388c1e4"
      },
      "execution_count": null,
      "outputs": [
        {
          "output_type": "display_data",
          "data": {
            "text/plain": [
              "<Figure size 2000x1500 with 2 Axes>"
            ],
            "image/png": "[encoded data removed]"
          },
          "metadata": {}
        }
      ]
    },
    {
      "cell_type": "code",
      "source": [
        "\n",
        "from sklearn.metrics import accuracy_score, classification_report\n",
        "\n",
        "# ارزیابی مدل\n",
        "print('دقت مدل:', accuracy_score(y_test, y_pred))\n",
        "print(classification_report(y_test, y_pred))"
      ],
      "metadata": {
        "colab": {
          "base_uri": "https://localhost:8080/"
        },
        "id": "RZMFWXt4p02N",
        "outputId": "5a5e2bcd-90f9-4891-d873-91dcfe2201d8"
      },
      "execution_count": null,
      "outputs": [
        {
          "output_type": "stream",
          "name": "stdout",
          "text": [
            "دقت مدل: 0.9642857142857143\n",
            "              precision    recall  f1-score   support\n",
            "\n",
            "           2       0.96      0.99      0.97        95\n",
            "           4       0.98      0.91      0.94        45\n",
            "\n",
            "    accuracy                           0.96       140\n",
            "   macro avg       0.97      0.95      0.96       140\n",
            "weighted avg       0.96      0.96      0.96       140\n",
            "\n"
          ]
        }
      ]
    }
  ]
}